{
 "metadata": {
  "language_info": {
   "codemirror_mode": {
    "name": "ipython",
    "version": 3
   },
   "file_extension": ".py",
   "mimetype": "text/x-python",
   "name": "python",
   "nbconvert_exporter": "python",
   "pygments_lexer": "ipython3",
   "version": "3.9.2"
  },
  "orig_nbformat": 2,
  "kernelspec": {
   "name": "python392jvsc74a57bd0ff356282b251f006c0c08831b579e99ab02398858bd553c1c7eef07b8e012e56",
   "display_name": "Python 3.9.2 64-bit ('venv')"
  }
 },
 "nbformat": 4,
 "nbformat_minor": 2,
 "cells": [
  {
   "cell_type": "code",
   "execution_count": 1,
   "metadata": {},
   "outputs": [
    {
     "output_type": "stream",
     "name": "stdout",
     "text": [
      "IP: 192.168.32.16\nMask: 255.255.0.0\nSubnet: 192.168.0.0\nHost: 0.0.32.16\nBroadcast: 192.168.255.255\n"
     ]
    }
   ],
   "source": [
    "import ipaddress\n",
    "\n",
    "IP = '192.168.32.16'\n",
    "MASK = '255.255.0.0'\n",
    "\n",
    "host = ipaddress.IPv4Address(IP)\n",
    "net = ipaddress.IPv4Network(IP + '/' + MASK, False)\n",
    "print('IP:', IP)\n",
    "print('Mask:', MASK)\n",
    "print('Subnet:', ipaddress.IPv4Address(int(host) & int(net.netmask)))\n",
    "print('Host:', ipaddress.IPv4Address(int(host) & int(net.hostmask)))\n",
    "print('Broadcast:', net.broadcast_address)"
   ]
  },
  {
   "cell_type": "code",
   "execution_count": 5,
   "metadata": {},
   "outputs": [],
   "source": [
    "import socket"
   ]
  },
  {
   "cell_type": "code",
   "execution_count": 6,
   "metadata": {},
   "outputs": [
    {
     "output_type": "execute_result",
     "data": {
      "text/plain": [
       "'192.168.178.80'"
      ]
     },
     "metadata": {},
     "execution_count": 6
    }
   ],
   "source": [
    "socket.gethostbyname(socket.gethostname())"
   ]
  },
  {
   "cell_type": "code",
   "execution_count": 7,
   "metadata": {},
   "outputs": [
    {
     "output_type": "execute_result",
     "data": {
      "text/plain": [
       "IPv4Address('192.168.32.16')"
      ]
     },
     "metadata": {},
     "execution_count": 7
    }
   ],
   "source": [
    "host"
   ]
  },
  {
   "cell_type": "code",
   "execution_count": 3,
   "metadata": {},
   "outputs": [
    {
     "output_type": "execute_result",
     "data": {
      "text/plain": [
       "1000000"
      ]
     },
     "metadata": {},
     "execution_count": 3
    }
   ],
   "source": [
    "1000_000"
   ]
  },
  {
   "cell_type": "code",
   "execution_count": null,
   "metadata": {},
   "outputs": [],
   "source": []
  },
  {
   "cell_type": "code",
   "execution_count": 1,
   "metadata": {},
   "outputs": [
    {
     "output_type": "error",
     "ename": "AssertionError",
     "evalue": "x should be 'hello'",
     "traceback": [
      "\u001b[1;31m---------------------------------------------------------------------------\u001b[0m",
      "\u001b[1;31mAssertionError\u001b[0m                            Traceback (most recent call last)",
      "\u001b[1;32m<ipython-input-1-a13cd6e9aadd>\u001b[0m in \u001b[0;36m<module>\u001b[1;34m\u001b[0m\n\u001b[0;32m      2\u001b[0m \u001b[1;33m\u001b[0m\u001b[0m\n\u001b[0;32m      3\u001b[0m \u001b[1;31m#if condition returns False, AssertionError is raised:\u001b[0m\u001b[1;33m\u001b[0m\u001b[1;33m\u001b[0m\u001b[1;33m\u001b[0m\u001b[0m\n\u001b[1;32m----> 4\u001b[1;33m \u001b[1;32massert\u001b[0m \u001b[0mx\u001b[0m \u001b[1;33m==\u001b[0m \u001b[1;34m\"goodbye\"\u001b[0m\u001b[1;33m,\u001b[0m \u001b[1;34m\"x should be 'hello'\"\u001b[0m\u001b[1;33m\u001b[0m\u001b[1;33m\u001b[0m\u001b[0m\n\u001b[0m",
      "\u001b[1;31mAssertionError\u001b[0m: x should be 'hello'"
     ]
    }
   ],
   "source": [
    "x = \"hello\"\n",
    "\n",
    "#if condition returns False, AssertionError is raised:\n",
    "assert x == \"goodbye\", \"x should be 'hello'\""
   ]
  },
  {
   "cell_type": "code",
   "execution_count": 1,
   "metadata": {},
   "outputs": [
    {
     "output_type": "execute_result",
     "data": {
      "text/plain": [
       "('0.0.0.0', 57063)"
      ]
     },
     "metadata": {},
     "execution_count": 1
    }
   ],
   "source": [
    "import socket\n",
    "server_socket = socket.socket(socket.AF_INET, socket.SOCK_DGRAM)\n",
    "server_socket.bind(('', 0))\n",
    "server_socket.getsockname()"
   ]
  },
  {
   "cell_type": "code",
   "execution_count": 2,
   "metadata": {},
   "outputs": [
    {
     "output_type": "execute_result",
     "data": {
      "text/plain": [
       "<socket.socket fd=1188, family=AddressFamily.AF_INET, type=SocketKind.SOCK_DGRAM, proto=0, laddr=('0.0.0.0', 57063)>"
      ]
     },
     "metadata": {},
     "execution_count": 2
    }
   ],
   "source": [
    "server_socket"
   ]
  },
  {
   "cell_type": "code",
   "execution_count": 3,
   "metadata": {},
   "outputs": [
    {
     "output_type": "stream",
     "name": "stdout",
     "text": [
      "Help on socket in module socket object:\n\nclass socket(_socket.socket)\n |  socket(family=-1, type=-1, proto=-1, fileno=None)\n |  \n |  A subclass of _socket.socket adding the makefile() method.\n |  \n |  Method resolution order:\n |      socket\n |      _socket.socket\n |      builtins.object\n |  \n |  Methods defined here:\n |  \n |  __enter__(self)\n |  \n |  __exit__(self, *args)\n |  \n |  __getstate__(self)\n |  \n |  __init__(self, family=-1, type=-1, proto=-1, fileno=None)\n |      Initialize self.  See help(type(self)) for accurate signature.\n |  \n |  __repr__(self)\n |      Wrap __repr__() to reveal the real class name and socket\n |      address(es).\n |  \n |  accept(self)\n |      accept() -> (socket object, address info)\n |      \n |      Wait for an incoming connection.  Return a new socket\n |      representing the connection, and the address of the client.\n |      For IP sockets, the address info is a pair (hostaddr, port).\n |  \n |  close(self)\n |      close()\n |      \n |      Close the socket.  It cannot be used after this call.\n |  \n |  detach(self)\n |      detach() -> file descriptor\n |      \n |      Close the socket object without closing the underlying file descriptor.\n |      The object cannot be used after this call, but the file descriptor\n |      can be reused for other purposes.  The file descriptor is returned.\n |  \n |  dup(self)\n |      dup() -> socket object\n |      \n |      Duplicate the socket. Return a new socket object connected to the same\n |      system resource. The new socket is non-inheritable.\n |  \n |  get_inheritable(self)\n |      Get the inheritable flag of the socket\n |  \n |  makefile(self, mode='r', buffering=None, *, encoding=None, errors=None, newline=None)\n |      makefile(...) -> an I/O stream connected to the socket\n |      \n |      The arguments are as for io.open() after the filename, except the only\n |      supported mode values are 'r' (default), 'w' and 'b'.\n |  \n |  sendfile(self, file, offset=0, count=None)\n |      sendfile(file[, offset[, count]]) -> sent\n |      \n |      Send a file until EOF is reached by using high-performance\n |      os.sendfile() and return the total number of bytes which\n |      were sent.\n |      *file* must be a regular file object opened in binary mode.\n |      If os.sendfile() is not available (e.g. Windows) or file is\n |      not a regular file socket.send() will be used instead.\n |      *offset* tells from where to start reading the file.\n |      If specified, *count* is the total number of bytes to transmit\n |      as opposed to sending the file until EOF is reached.\n |      File position is updated on return or also in case of error in\n |      which case file.tell() can be used to figure out the number of\n |      bytes which were sent.\n |      The socket must be of SOCK_STREAM type.\n |      Non-blocking sockets are not supported.\n |  \n |  set_inheritable(self, inheritable)\n |      Set the inheritable flag of the socket\n |  \n |  ----------------------------------------------------------------------\n |  Readonly properties defined here:\n |  \n |  family\n |      Read-only access to the address family for this socket.\n |  \n |  type\n |      Read-only access to the socket type.\n |  \n |  ----------------------------------------------------------------------\n |  Data descriptors defined here:\n |  \n |  __weakref__\n |      list of weak references to the object (if defined)\n |  \n |  ----------------------------------------------------------------------\n |  Methods inherited from _socket.socket:\n |  \n |  __del__(...)\n |  \n |  __getattribute__(self, name, /)\n |      Return getattr(self, name).\n |  \n |  bind(...)\n |      bind(address)\n |      \n |      Bind the socket to a local address.  For IP sockets, the address is a\n |      pair (host, port); the host must refer to the local host. For raw packet\n |      sockets the address is a tuple (ifname, proto [,pkttype [,hatype [,addr]]])\n |  \n |  connect(...)\n |      connect(address)\n |      \n |      Connect the socket to a remote address.  For IP sockets, the address\n |      is a pair (host, port).\n |  \n |  connect_ex(...)\n |      connect_ex(address) -> errno\n |      \n |      This is like connect(address), but returns an error code (the errno value)\n |      instead of raising an exception when an error occurs.\n |  \n |  fileno(...)\n |      fileno() -> integer\n |      \n |      Return the integer file descriptor of the socket.\n |  \n |  getblocking(...)\n |      getblocking()\n |      \n |      Returns True if socket is in blocking mode, or False if it\n |      is in non-blocking mode.\n |  \n |  getpeername(...)\n |      getpeername() -> address info\n |      \n |      Return the address of the remote endpoint.  For IP sockets, the address\n |      info is a pair (hostaddr, port).\n |  \n |  getsockname(...)\n |      getsockname() -> address info\n |      \n |      Return the address of the local endpoint. The format depends on the\n |      address family. For IPv4 sockets, the address info is a pair\n |      (hostaddr, port).\n |  \n |  getsockopt(...)\n |      getsockopt(level, option[, buffersize]) -> value\n |      \n |      Get a socket option.  See the Unix manual for level and option.\n |      If a nonzero buffersize argument is given, the return value is a\n |      string of that length; otherwise it is an integer.\n |  \n |  gettimeout(...)\n |      gettimeout() -> timeout\n |      \n |      Returns the timeout in seconds (float) associated with socket\n |      operations. A timeout of None indicates that timeouts on socket\n |      operations are disabled.\n |  \n |  ioctl(...)\n |      ioctl(cmd, option) -> long\n |      \n |      Control the socket with WSAIoctl syscall. Currently supported 'cmd' values are\n |      SIO_RCVALL:  'option' must be one of the socket.RCVALL_* constants.\n |      SIO_KEEPALIVE_VALS:  'option' is a tuple of (onoff, timeout, interval).\n |      SIO_LOOPBACK_FAST_PATH: 'option' is a boolean value, and is disabled by default\n |  \n |  listen(...)\n |      listen([backlog])\n |      \n |      Enable a server to accept connections.  If backlog is specified, it must be\n |      at least 0 (if it is lower, it is set to 0); it specifies the number of\n |      unaccepted connections that the system will allow before refusing new\n |      connections. If not specified, a default reasonable value is chosen.\n |  \n |  recv(...)\n |      recv(buffersize[, flags]) -> data\n |      \n |      Receive up to buffersize bytes from the socket.  For the optional flags\n |      argument, see the Unix manual.  When no data is available, block until\n |      at least one byte is available or until the remote end is closed.  When\n |      the remote end is closed and all data is read, return the empty string.\n |  \n |  recv_into(...)\n |      recv_into(buffer, [nbytes[, flags]]) -> nbytes_read\n |      \n |      A version of recv() that stores its data into a buffer rather than creating\n |      a new string.  Receive up to buffersize bytes from the socket.  If buffersize\n |      is not specified (or 0), receive up to the size available in the given buffer.\n |      \n |      See recv() for documentation about the flags.\n |  \n |  recvfrom(...)\n |      recvfrom(buffersize[, flags]) -> (data, address info)\n |      \n |      Like recv(buffersize, flags) but also return the sender's address info.\n |  \n |  recvfrom_into(...)\n |      recvfrom_into(buffer[, nbytes[, flags]]) -> (nbytes, address info)\n |      \n |      Like recv_into(buffer[, nbytes[, flags]]) but also return the sender's address info.\n |  \n |  send(...)\n |      send(data[, flags]) -> count\n |      \n |      Send a data string to the socket.  For the optional flags\n |      argument, see the Unix manual.  Return the number of bytes\n |      sent; this may be less than len(data) if the network is busy.\n |  \n |  sendall(...)\n |      sendall(data[, flags])\n |      \n |      Send a data string to the socket.  For the optional flags\n |      argument, see the Unix manual.  This calls send() repeatedly\n |      until all data is sent.  If an error occurs, it's impossible\n |      to tell how much data has been sent.\n |  \n |  sendto(...)\n |      sendto(data[, flags], address) -> count\n |      \n |      Like send(data, flags) but allows specifying the destination address.\n |      For IP sockets, the address is a pair (hostaddr, port).\n |  \n |  setblocking(...)\n |      setblocking(flag)\n |      \n |      Set the socket to blocking (flag is true) or non-blocking (false).\n |      setblocking(True) is equivalent to settimeout(None);\n |      setblocking(False) is equivalent to settimeout(0.0).\n |  \n |  setsockopt(...)\n |      setsockopt(level, option, value: int)\n |      setsockopt(level, option, value: buffer)\n |      setsockopt(level, option, None, optlen: int)\n |      \n |      Set a socket option.  See the Unix manual for level and option.\n |      The value argument can either be an integer, a string buffer, or\n |      None, optlen.\n |  \n |  settimeout(...)\n |      settimeout(timeout)\n |      \n |      Set a timeout on socket operations.  'timeout' can be a float,\n |      giving in seconds, or None.  Setting a timeout of None disables\n |      the timeout feature and is equivalent to setblocking(1).\n |      Setting a timeout of zero is the same as setblocking(0).\n |  \n |  share(...)\n |      share(process_id) -> bytes\n |      \n |      Share the socket with another process.  The target process id\n |      must be provided and the resulting bytes object passed to the target\n |      process.  There the shared socket can be instantiated by calling\n |      socket.fromshare().\n |  \n |  shutdown(...)\n |      shutdown(flag)\n |      \n |      Shut down the reading side of the socket (flag == SHUT_RD), the writing side\n |      of the socket (flag == SHUT_WR), or both ends (flag == SHUT_RDWR).\n |  \n |  ----------------------------------------------------------------------\n |  Static methods inherited from _socket.socket:\n |  \n |  __new__(*args, **kwargs) from builtins.type\n |      Create and return a new object.  See help(type) for accurate signature.\n |  \n |  ----------------------------------------------------------------------\n |  Data descriptors inherited from _socket.socket:\n |  \n |  proto\n |      the socket protocol\n |  \n |  timeout\n |      the socket timeout\n\n"
     ]
    }
   ],
   "source": [
    "help(server_socket)"
   ]
  }
 ]
}